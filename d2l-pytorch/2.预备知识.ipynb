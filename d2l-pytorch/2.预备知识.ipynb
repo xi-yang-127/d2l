{
 "cells": [
  {
   "cell_type": "markdown",
   "id": "8e4e0038-e4bf-439f-a7e4-2e9de8e3a1bf",
   "metadata": {},
   "source": [
    "# 2.1 数据操作"
   ]
  },
  {
   "cell_type": "markdown",
   "id": "f9d8045d-c040-4d7f-92dc-a67475dcb50a",
   "metadata": {},
   "source": [
    "## 2.1.1 入门"
   ]
  },
  {
   "cell_type": "code",
   "execution_count": 25,
   "id": "9a8c6fc5-25e2-4adb-a964-7f89fd9f4f31",
   "metadata": {},
   "outputs": [],
   "source": [
    "# 导入torch库\n",
    "import torch"
   ]
  },
  {
   "cell_type": "raw",
   "id": "d5e1ba4a-8462-45d2-b7c5-0155d651e2ca",
   "metadata": {},
   "source": [
    "使用torch.arange()函数创建向量（vector）\n",
    "默认创建为整型tensor，也可指定创建类型"
   ]
  },
  {
   "cell_type": "code",
   "execution_count": 8,
   "id": "50634933-3a7a-4a57-ad31-97f9b26caac8",
   "metadata": {},
   "outputs": [
    {
     "data": {
      "text/plain": [
       "tensor([ 0,  1,  2,  3,  4,  5,  6,  7,  8,  9, 10, 11, 12, 13, 14])"
      ]
     },
     "execution_count": 8,
     "metadata": {},
     "output_type": "execute_result"
    }
   ],
   "source": [
    "# 创建整型向量\n",
    "int_vector = torch.arange(15)\n",
    "int_vector"
   ]
  },
  {
   "cell_type": "code",
   "execution_count": 12,
   "id": "b14c3e0a-4f0a-406f-ab4d-b6022348b593",
   "metadata": {},
   "outputs": [
    {
     "data": {
      "text/plain": [
       "tensor([ 0.,  1.,  2.,  3.,  4.,  5.,  6.,  7.,  8.,  9., 10., 11., 12., 13.,\n",
       "        14.])"
      ]
     },
     "execution_count": 12,
     "metadata": {},
     "output_type": "execute_result"
    }
   ],
   "source": [
    "float_tensor = torch.arange(15, dtype=torch.float32)\n",
    "float_tensor"
   ]
  },
  {
   "cell_type": "raw",
   "id": "0b074e02-e954-4c08-a29f-c1769fba88f2",
   "metadata": {},
   "source": [
    "使用张量（tensor）的shape属性可以获得张量的形状，\n",
    "使用张量（tensor）的numel()方法可以获得张量中元素的数量"
   ]
  },
  {
   "cell_type": "code",
   "execution_count": 21,
   "id": "d947565b-5981-4e0e-a01c-4bedd061a973",
   "metadata": {},
   "outputs": [
    {
     "data": {
      "text/plain": [
       "(torch.Size([15]), 15)"
      ]
     },
     "execution_count": 21,
     "metadata": {},
     "output_type": "execute_result"
    }
   ],
   "source": [
    "shape = int_vector.shape\n",
    "numel = int_vector.numel()\n",
    "shape, numel"
   ]
  },
  {
   "cell_type": "raw",
   "id": "39424090-95c3-44e1-b539-ead6188ca18b",
   "metadata": {},
   "source": [
    "使用张量（tensor）的reshape()方法改变张量的形状,\n",
    "可以使用-1调用自动推导功能"
   ]
  },
  {
   "cell_type": "code",
   "execution_count": 85,
   "id": "0921c00e-1e2a-45e3-979a-e711e5c928f8",
   "metadata": {},
   "outputs": [
    {
     "name": "stdout",
     "output_type": "stream",
     "text": [
      "auto: tensor([[ 0,  1,  2,  3,  4],\n",
      "        [ 5,  6,  7,  8,  9],\n",
      "        [10, 11, 12, 13, 14]])\n",
      "manual: tensor([[ 0,  1,  2,  3,  4],\n",
      "        [ 5,  6,  7,  8,  9],\n",
      "        [10, 11, 12, 13, 14]])\n"
     ]
    }
   ],
   "source": [
    "manual = int_vector.reshape(3, 5)\n",
    "\n",
    "auto = int_vector.reshape(-1,5)\n",
    "\n",
    "print(\"auto:\", auto)\n",
    "\n",
    "print(\"manual:\", manual)"
   ]
  },
  {
   "cell_type": "raw",
   "id": "d572f2a3-72ab-4e63-b28c-5c8f97d062a4",
   "metadata": {},
   "source": [
    "创建tensor\n",
    "使用torch.zeros()创建全为0的张量\n",
    "使用torch.ones()创建全为1的张量\n",
    "使用torch.tensor()通过其他类型（列表、数组（numpy.ndarray）、元组、切片等等）创建张量\n",
    "使用torch.randn()创建每个元素符合均值为0、标准差为1的正态分布"
   ]
  },
  {
   "cell_type": "code",
   "execution_count": 33,
   "id": "0809386c-1f8a-4271-8595-6f3358fda366",
   "metadata": {},
   "outputs": [
    {
     "data": {
      "text/plain": [
       "tensor([[0., 0., 0., 0., 0.],\n",
       "        [0., 0., 0., 0., 0.]])"
      ]
     },
     "execution_count": 33,
     "metadata": {},
     "output_type": "execute_result"
    }
   ],
   "source": [
    "zeros_tensor = torch.zeros(2, 5)\n",
    "zeros_tensor"
   ]
  },
  {
   "cell_type": "code",
   "execution_count": 36,
   "id": "b2a531a9-99c8-42cb-9de5-529776671b10",
   "metadata": {},
   "outputs": [
    {
     "data": {
      "text/plain": [
       "tensor([[1., 1., 1., 1.],\n",
       "        [1., 1., 1., 1.],\n",
       "        [1., 1., 1., 1.],\n",
       "        [1., 1., 1., 1.]])"
      ]
     },
     "execution_count": 36,
     "metadata": {},
     "output_type": "execute_result"
    }
   ],
   "source": [
    "ones_tensor = torch.ones(4, 4)\n",
    "ones_tensor"
   ]
  },
  {
   "cell_type": "code",
   "execution_count": 38,
   "id": "524cfb01-5fd4-4e19-8535-5d48299344bf",
   "metadata": {},
   "outputs": [
    {
     "data": {
      "text/plain": [
       "tensor([[1, 2, 3],\n",
       "        [4, 5, 6]])"
      ]
     },
     "execution_count": 38,
     "metadata": {},
     "output_type": "execute_result"
    }
   ],
   "source": [
    "l = [\n",
    "    [1, 2, 3],\n",
    "    [4, 5, 6]\n",
    "    ]\n",
    "list_to_tensor = torch.tensor(l)\n",
    "list_to_tensor"
   ]
  },
  {
   "cell_type": "code",
   "execution_count": 39,
   "id": "3021c901-a06f-4da6-8882-a7cfffba9b47",
   "metadata": {},
   "outputs": [
    {
     "data": {
      "text/plain": [
       "tensor([[ 0.6991, -1.7792,  0.7816],\n",
       "        [-0.2696, -0.7418, -1.8899],\n",
       "        [-0.1762, -0.8113,  0.5235]])"
      ]
     },
     "execution_count": 39,
     "metadata": {},
     "output_type": "execute_result"
    }
   ],
   "source": [
    "randn_tensor = torch.randn(3,3)\n",
    "randn_tensor"
   ]
  },
  {
   "cell_type": "markdown",
   "id": "ddde1db5-030d-435e-915a-0a9544b38a85",
   "metadata": {},
   "source": [
    "## 2.1.2 运算符"
   ]
  },
  {
   "cell_type": "raw",
   "id": "5953aa46-fb3c-4e51-a748-ebdcd8035660",
   "metadata": {},
   "source": [
    "对于任意具有相同形状的张量都可以使用标准运算符(+、-、*、/和**)进行按元素运算"
   ]
  },
  {
   "cell_type": "code",
   "execution_count": 42,
   "id": "dd1785b9-e37f-4b94-b0a5-8a3ee10ac60d",
   "metadata": {},
   "outputs": [
    {
     "data": {
      "text/plain": [
       "(tensor([[ 1.4601, -0.7015,  0.7316,  0.2269],\n",
       "         [-2.7876, -1.4268, -0.1197,  0.6829],\n",
       "         [-0.4303, -0.5335, -0.9017, -2.7408]]),\n",
       " tensor([[ 0.7715,  0.2767,  1.4215, -1.6730],\n",
       "         [ 1.0291,  0.6006,  0.5876, -0.1903],\n",
       "         [-0.0251, -1.2935,  0.3005,  0.1139]]))"
      ]
     },
     "execution_count": 42,
     "metadata": {},
     "output_type": "execute_result"
    }
   ],
   "source": [
    "x = torch.randn(3, 4)\n",
    "y = torch.randn(3, 4)\n",
    "x, y"
   ]
  },
  {
   "cell_type": "code",
   "execution_count": 43,
   "id": "821c11c9-aa21-4716-aec8-0ea03f32e787",
   "metadata": {},
   "outputs": [
    {
     "data": {
      "text/plain": [
       "tensor([[ 2.2316, -0.4248,  2.1532, -1.4461],\n",
       "        [-1.7585, -0.8263,  0.4679,  0.4927],\n",
       "        [-0.4554, -1.8270, -0.6011, -2.6270]])"
      ]
     },
     "execution_count": 43,
     "metadata": {},
     "output_type": "execute_result"
    }
   ],
   "source": [
    "# 加法\n",
    "add = x + y\n",
    "add"
   ]
  },
  {
   "cell_type": "code",
   "execution_count": 45,
   "id": "0d40de00-a895-4257-9e13-6f6548eee722",
   "metadata": {},
   "outputs": [
    {
     "data": {
      "text/plain": [
       "tensor([[ 0.6885, -0.9782, -0.6899,  1.8999],\n",
       "        [-3.8168, -2.0274, -0.7073,  0.8732],\n",
       "        [-0.4052,  0.7600, -1.2022, -2.8547]])"
      ]
     },
     "execution_count": 45,
     "metadata": {},
     "output_type": "execute_result"
    }
   ],
   "source": [
    "# 减法\n",
    "sub = x - y\n",
    "sub"
   ]
  },
  {
   "cell_type": "code",
   "execution_count": 44,
   "id": "f8d658a4-72aa-47dc-8073-1d468baf75f4",
   "metadata": {},
   "outputs": [
    {
     "data": {
      "text/plain": [
       "tensor([[ 1.1265, -0.1941,  1.0401, -0.3796],\n",
       "        [-2.8688, -0.8569, -0.0703, -0.1299],\n",
       "        [ 0.0108,  0.6901, -0.2710, -0.3122]])"
      ]
     },
     "execution_count": 44,
     "metadata": {},
     "output_type": "execute_result"
    }
   ],
   "source": [
    "# 乘法\n",
    "mul = x * y\n",
    "mul"
   ]
  },
  {
   "cell_type": "code",
   "execution_count": 46,
   "id": "a455d84d-0665-4603-887b-2496dbdeb87e",
   "metadata": {},
   "outputs": [
    {
     "data": {
      "text/plain": [
       "tensor([[  1.8924,  -2.5352,   0.5147,  -0.1356],\n",
       "        [ -2.7087,  -2.3758,  -0.2037,  -3.5893],\n",
       "        [ 17.1433,   0.4124,  -3.0003, -24.0650]])"
      ]
     },
     "execution_count": 46,
     "metadata": {},
     "output_type": "execute_result"
    }
   ],
   "source": [
    "# 除法\n",
    "div = x / y\n",
    "div"
   ]
  },
  {
   "cell_type": "code",
   "execution_count": 50,
   "id": "1377f49e-7317-44d3-af90-bc19aa1c5235",
   "metadata": {},
   "outputs": [
    {
     "data": {
      "text/plain": [
       "tensor([[ 1.3391,     nan,  0.6413, 11.9564],\n",
       "        [    nan,     nan,     nan,  1.0753],\n",
       "        [    nan,     nan,     nan,     nan]])"
      ]
     },
     "execution_count": 50,
     "metadata": {},
     "output_type": "execute_result"
    }
   ],
   "source": [
    "# 幂运算 （底数>0）\n",
    "exp = x ** y\n",
    "exp"
   ]
  },
  {
   "cell_type": "code",
   "execution_count": 86,
   "id": "e5c98ebc-6550-4886-baab-ca2add241ebf",
   "metadata": {},
   "outputs": [
    {
     "name": "stdout",
     "output_type": "stream",
     "text": [
      "cat_row:\n",
      " tensor([[ 1.4601, -0.7015,  0.7316,  0.2269],\n",
      "        [-2.7876, -1.4268, -0.1197,  0.6829],\n",
      "        [-0.4303, -0.5335, -0.9017, -2.7408],\n",
      "        [ 0.7715,  0.2767,  1.4215, -1.6730],\n",
      "        [ 1.0291,  0.6006,  0.5876, -0.1903],\n",
      "        [-0.0251, -1.2935,  0.3005,  0.1139]])\n",
      "cat_col:\n",
      " tensor([[ 1.4601, -0.7015,  0.7316,  0.2269,  0.7715,  0.2767,  1.4215, -1.6730],\n",
      "        [-2.7876, -1.4268, -0.1197,  0.6829,  1.0291,  0.6006,  0.5876, -0.1903],\n",
      "        [-0.4303, -0.5335, -0.9017, -2.7408, -0.0251, -1.2935,  0.3005,  0.1139]])\n",
      "cat_increase_row:\n",
      " tensor([[-0.8478,  1.2235, -0.0685],\n",
      "        [ 0.7174,  0.5485, -0.4737],\n",
      "        [ 0.9451, -0.3455, -0.1643],\n",
      "        [ 0.7222, -1.0900,  0.6038],\n",
      "        [-1.1996, -1.0971,  0.2142],\n",
      "        [-0.1563, -0.4311, -1.2022]])\n",
      "cat_increase_col:\n",
      " tensor([[ 1.4854, -0.0608, -0.5504, -0.7944, -0.8707, -0.5543,  2.1998, -0.3740,\n",
      "         -0.1084],\n",
      "        [ 0.1755,  1.0293, -0.7239,  0.4633, -0.3182, -1.3267,  1.0856,  0.3860,\n",
      "         -0.0572],\n",
      "        [ 0.3933,  1.4379, -1.1985,  1.0958,  0.4825,  1.6441, -0.6273,  0.8140,\n",
      "          0.2711]])\n"
     ]
    }
   ],
   "source": [
    "# torch.cat()函数---张量之间拼接\n",
    "\n",
    "# dim=0 增加行向量\n",
    "cat_row = torch.cat((x, y), dim=0)\n",
    "\n",
    "# dim=1 增加列向量\n",
    "cat_col = torch.cat((x, y), dim=1)\n",
    "print(\"cat_row:\\n\",cat_row)\n",
    "print(\"cat_col:\\n\", cat_col)\n",
    "\n",
    "# 若增加行向量，矩阵的列数必须保持相同\n",
    "row_x = torch.randn(2, 3)\n",
    "row_y = torch.randn(4, 3)\n",
    "cat_increase_row = torch.cat((row_x, row_y),dim=0)\n",
    "print(\"cat_increase_row:\\n\", cat_increase_row)\n",
    "\n",
    "# 若增加列向量，矩阵的行数必须保持相同\n",
    "col_x = torch.randn(3, 4)\n",
    "col_y = torch.randn(3, 5)\n",
    "cat_increase_col = torch.cat((col_x, col_y), dim=1)\n",
    "print(\"cat_increase_col:\\n\", cat_increase_col)"
   ]
  },
  {
   "cell_type": "code",
   "execution_count": 64,
   "id": "cc5e30fa-45aa-4e75-ad9c-5991b9bea09d",
   "metadata": {},
   "outputs": [
    {
     "data": {
      "text/plain": [
       "tensor(2.6188)"
      ]
     },
     "execution_count": 64,
     "metadata": {},
     "output_type": "execute_result"
    }
   ],
   "source": [
    "# 使用sum()方法对tensor中所有元素求和,并返回一个张量\n",
    "sum_x = torch.randn(3, 4)\n",
    "sum_tensor = sum_x.sum()\n",
    "sum_tensor"
   ]
  },
  {
   "cell_type": "markdown",
   "id": "fa81d1e7-98be-4508-a7fb-a670a98ba02c",
   "metadata": {},
   "source": [
    "## 2.1.3 广播机制"
   ]
  },
  {
   "cell_type": "raw",
   "id": "d54c09c1-91a8-4509-962a-463ccc581900",
   "metadata": {},
   "source": [
    "广播机制：在某些条件下，可以使不同形状的矩阵，按元素操作\n",
    "\n",
    "从右向左看:\n",
    "    两个维度的大小相等\n",
    "    其中一个有维度，另外一个没有维度\n",
    "    其中一个有维度，另外一个也有维度且为维度为1"
   ]
  },
  {
   "cell_type": "code",
   "execution_count": 74,
   "id": "0933e8f4-3b65-435f-b3d2-dfd6adbdc3bf",
   "metadata": {},
   "outputs": [
    {
     "data": {
      "text/plain": [
       "tensor([[[ 1.3904, -1.2378],\n",
       "         [-0.2035, -0.2642]],\n",
       "\n",
       "        [[ 1.9737, -1.0751],\n",
       "         [ 0.4408, -0.6978]],\n",
       "\n",
       "        [[-0.0371, -0.3069],\n",
       "         [ 1.2287,  0.2305]]])"
      ]
     },
     "execution_count": 74,
     "metadata": {},
     "output_type": "execute_result"
    }
   ],
   "source": [
    "x_broad = torch.randn(2)\n",
    "y_broad = torch.randn(3,2,2)\n",
    "x_broad + y_broad"
   ]
  },
  {
   "cell_type": "markdown",
   "id": "4fe9b49f-ba3e-480d-b900-730457d773b9",
   "metadata": {},
   "source": [
    "## 2.1.4 索引和切片"
   ]
  },
  {
   "cell_type": "code",
   "execution_count": 75,
   "id": "c2628eb6-8bcb-4055-9032-a52b974c9086",
   "metadata": {},
   "outputs": [
    {
     "data": {
      "text/plain": [
       "tensor([[ 0,  1,  2,  3],\n",
       "        [ 4,  5,  6,  7],\n",
       "        [ 8,  9, 10, 11]])"
      ]
     },
     "execution_count": 75,
     "metadata": {},
     "output_type": "execute_result"
    }
   ],
   "source": [
    "idx_tensor = torch.arange(12).reshape(3, 4)\n",
    "idx_tensor"
   ]
  },
  {
   "cell_type": "code",
   "execution_count": 76,
   "id": "877447d5-f889-4488-9e36-959ccfe24b3b",
   "metadata": {},
   "outputs": [
    {
     "data": {
      "text/plain": [
       "tensor([[0, 1, 2, 3],\n",
       "        [4, 5, 6, 7]])"
      ]
     },
     "execution_count": 76,
     "metadata": {},
     "output_type": "execute_result"
    }
   ],
   "source": [
    "# 同时获取多个元素\n",
    "get_element = idx_tensor[:2, :]\n",
    "get_elemen"
   ]
  },
  {
   "cell_type": "markdown",
   "id": "57b47c0b-3e20-4eec-b170-9b47bfeab587",
   "metadata": {},
   "source": [
    "## 2.1.5 节省内存"
   ]
  },
  {
   "cell_type": "raw",
   "id": "11d0d2f4-2f50-48ef-a924-b2ef0f797a20",
   "metadata": {},
   "source": [
    "可以使用X[:] = X + Y 或者 X += Y 来节省内存"
   ]
  },
  {
   "cell_type": "code",
   "execution_count": 81,
   "id": "23f7cda1-2883-4dcb-8653-69b94f50bd80",
   "metadata": {},
   "outputs": [
    {
     "name": "stdout",
     "output_type": "stream",
     "text": [
      "before_x_id: 140312240590176\n",
      "add memory x id: 140312229164144\n",
      "[:] add id: 140312229164144\n"
     ]
    }
   ],
   "source": [
    "memory_x = torch.randn(2, 3)\n",
    "memory_y = torch.randn(2, 3)\n",
    "befor_x_id = id(memory_x)\n",
    "print(\"before_x_id:\", befor_x_id)\n",
    "memory_x = memory_x + memory_y\n",
    "print(\"add memory x id:\", id(memory_x))\n",
    "memory_x[:] = memory_x + memory_y\n",
    "print(\"[:] add id:\", id(memory_x))"
   ]
  },
  {
   "cell_type": "markdown",
   "id": "d61a857c-d50e-4902-9047-eed404125988",
   "metadata": {},
   "source": [
    "## 2.1.6 转换为其他Python对象"
   ]
  },
  {
   "cell_type": "raw",
   "id": "a40c0f50-f7b3-4fb0-8bcb-82aa0a62b29e",
   "metadata": {},
   "source": [
    "1.张量转换为numpy类型\n",
    "2.numpy类型转换为张量"
   ]
  },
  {
   "cell_type": "code",
   "execution_count": 83,
   "id": "aa3cbae4-19ef-433d-9f97-24cdc4f03042",
   "metadata": {},
   "outputs": [
    {
     "data": {
      "text/plain": [
       "array([[ 0.95006216, -0.5165921 ,  0.34783304,  0.5194973 ],\n",
       "       [ 0.09277122,  0.26368752, -1.8891605 ,  0.14917013],\n",
       "       [ 2.4105961 , -0.47035468, -1.0013242 , -0.968069  ]],\n",
       "      dtype=float32)"
      ]
     },
     "execution_count": 83,
     "metadata": {},
     "output_type": "execute_result"
    }
   ],
   "source": [
    "# 使用张量的numpy()方法，将张量转换为numpy.ndarray类型\n",
    "convert_tensor = torch.randn(3, 4)\n",
    "tensor_to_numpy = convert_tensor.numpy()\n",
    "tensor_to_numpy"
   ]
  },
  {
   "cell_type": "code",
   "execution_count": 84,
   "id": "136f9450-9c28-4ec4-b7f7-2e790e016621",
   "metadata": {},
   "outputs": [
    {
     "data": {
      "text/plain": [
       "tensor([[ 0.9501, -0.5166,  0.3478,  0.5195],\n",
       "        [ 0.0928,  0.2637, -1.8892,  0.1492],\n",
       "        [ 2.4106, -0.4704, -1.0013, -0.9681]])"
      ]
     },
     "execution_count": 84,
     "metadata": {},
     "output_type": "execute_result"
    }
   ],
   "source": [
    "# 使用torch.tensor()函数将numpy.ndarray类型转换为张量\n",
    "numpy_to_tensor = torch.tensor(tensor_to_numpy)\n",
    "numpy_to_tensor"
   ]
  },
  {
   "cell_type": "markdown",
   "id": "9ddd7d1b-cafb-44f1-a192-0470ff87036e",
   "metadata": {},
   "source": [
    "## 练习"
   ]
  },
  {
   "cell_type": "raw",
   "id": "dff1199a-774f-4bed-ae4d-3d6d54bce19e",
   "metadata": {},
   "source": [
    "1. 运行本节中的代码。将本节中的条件语句X == Y更改为X < Y或X > Y，然后看看你可以得到什么样的张量。"
   ]
  },
  {
   "cell_type": "code",
   "execution_count": 101,
   "id": "e7f7aae8-daab-4a29-9550-d58dfdbde6ee",
   "metadata": {},
   "outputs": [
    {
     "data": {
      "text/plain": [
       "tensor([[False, False, False, False],\n",
       "        [False, False, False, False],\n",
       "        [False, False, False, False]])"
      ]
     },
     "execution_count": 101,
     "metadata": {},
     "output_type": "execute_result"
    }
   ],
   "source": [
    "# ==\n",
    "logic_x = torch.randn(3, 4)\n",
    "logic_y =  torch.randn(3, 4)\n",
    "logic_x == logic_y"
   ]
  },
  {
   "cell_type": "code",
   "execution_count": 102,
   "id": "f31ea37f-c2a9-430b-88c1-e9d48ecdf3b2",
   "metadata": {},
   "outputs": [
    {
     "data": {
      "text/plain": [
       "tensor([[False,  True, False, False],\n",
       "        [False, False,  True, False],\n",
       "        [ True,  True,  True,  True]])"
      ]
     },
     "execution_count": 102,
     "metadata": {},
     "output_type": "execute_result"
    }
   ],
   "source": [
    "# <\n",
    "logic_x < logic_y"
   ]
  },
  {
   "cell_type": "code",
   "execution_count": 103,
   "id": "f93654bf-f2c6-40fe-bf18-af55d73df18f",
   "metadata": {},
   "outputs": [
    {
     "data": {
      "text/plain": [
       "tensor([[ True, False,  True,  True],\n",
       "        [ True,  True, False,  True],\n",
       "        [False, False, False, False]])"
      ]
     },
     "execution_count": 103,
     "metadata": {},
     "output_type": "execute_result"
    }
   ],
   "source": [
    "# >\n",
    "logic_x > logic_y"
   ]
  },
  {
   "cell_type": "code",
   "execution_count": 106,
   "id": "37a47d47-ffe9-4ad6-b6f5-e9a0896f2c63",
   "metadata": {},
   "outputs": [
    {
     "data": {
      "text/plain": [
       "tensor([[[ True,  True,  True],\n",
       "         [False,  True, False]],\n",
       "\n",
       "        [[ True, False, False],\n",
       "         [ True, False, False]],\n",
       "\n",
       "        [[ True, False,  True],\n",
       "         [ True, False, False]]])"
      ]
     },
     "execution_count": 106,
     "metadata": {},
     "output_type": "execute_result"
    }
   ],
   "source": [
    "# 测试logic是否满足广播机制\n",
    "logic_broad_x = torch.randn(1, 2, 1)\n",
    "logic_broad_y = torch.randn(3, 1, 3)\n",
    "logic_broad_x < logic_broad_y"
   ]
  },
  {
   "cell_type": "raw",
   "id": "e0bd3e41-7c72-4eb8-bab7-8296fac00da8",
   "metadata": {},
   "source": [
    "2. 用其他形状（例如三维张量）替换广播机制中按元素操作的两个张量。结果是否与预期相同？"
   ]
  },
  {
   "cell_type": "code",
   "execution_count": 108,
   "id": "fe546050-cc24-40f6-8771-374db69d8652",
   "metadata": {},
   "outputs": [
    {
     "data": {
      "text/plain": [
       "tensor([[[ 0.8368, -0.3867,  0.4151,  1.1498,  1.8494],\n",
       "         [-0.6255, -2.0392, -0.7277,  0.4984, -0.9893],\n",
       "         [-0.8679,  0.1367,  1.0319,  1.6718,  1.9329]],\n",
       "\n",
       "        [[ 0.0812, -1.1423, -0.3405,  0.3941,  1.0937],\n",
       "         [ 1.4849,  0.0711,  1.3827,  2.6088,  1.1211],\n",
       "         [-2.7408, -1.7363, -0.8411, -0.2011,  0.0600]],\n",
       "\n",
       "        [[ 0.5131, -0.7104,  0.0914,  0.8260,  1.5256],\n",
       "         [ 0.2214, -1.1924,  0.1192,  1.3453, -0.1424],\n",
       "         [-0.4556,  0.5489,  1.4441,  2.0841,  2.3452]],\n",
       "\n",
       "        [[-0.3596, -1.5831, -0.7813, -0.0467,  0.6529],\n",
       "         [ 0.7627, -0.6510,  0.6605,  1.8867,  0.3990],\n",
       "         [-0.1842,  0.8203,  1.7155,  2.3555,  2.6166]]])"
      ]
     },
     "execution_count": 108,
     "metadata": {},
     "output_type": "execute_result"
    }
   ],
   "source": [
    "pra_broad_x = torch.randn(1, 3, 5)\n",
    "pra_broad_y = torch.randn(4,3, 1)\n",
    "pra_broad_x + pra_broad_y"
   ]
  },
  {
   "cell_type": "markdown",
   "id": "dca46b38-0921-4e01-9a9e-69d43c1d562c",
   "metadata": {},
   "source": [
    "# 2.2 数据预处理"
   ]
  },
  {
   "cell_type": "raw",
   "id": "86bbc89f-2542-4a77-b6ac-b9668690f0a2",
   "metadata": {},
   "source": [
    "使用pandas对原始数据进行处理"
   ]
  },
  {
   "cell_type": "markdown",
   "id": "950940e4-d004-45c9-ab17-542f2d329998",
   "metadata": {},
   "source": [
    "## 2.2.1读取数据"
   ]
  },
  {
   "cell_type": "code",
   "execution_count": 16,
   "id": "c8f4b60e-62c7-46d5-9460-5b7a291c6441",
   "metadata": {},
   "outputs": [],
   "source": [
    "data_file = \"./house_tiny.csv\"\n",
    "with open(data_file, \"w\") as f:\n",
    "    f.write(\"NumRooms, Alley, Price\\n\")\n",
    "    f.write(\"NaN, Pave, 127800\\n\")\n",
    "    f.write(\"2, NaN, 106000\\n\")\n",
    "    f.write(\"4, NaN, 178100\\n\")\n",
    "    f.write(\"NA, NaN, 140000\\n\")"
   ]
  },
  {
   "cell_type": "raw",
   "id": "a5600623-cc82-4b4f-b892-948348dbedb0",
   "metadata": {},
   "source": [
    "使用pandas的read_csv()函数读取csv文件"
   ]
  },
  {
   "cell_type": "code",
   "execution_count": 17,
   "id": "017da6a1-9ebe-42e6-8b61-31d1e6c52476",
   "metadata": {},
   "outputs": [
    {
     "data": {
      "text/html": [
       "<div>\n",
       "<style scoped>\n",
       "    .dataframe tbody tr th:only-of-type {\n",
       "        vertical-align: middle;\n",
       "    }\n",
       "\n",
       "    .dataframe tbody tr th {\n",
       "        vertical-align: top;\n",
       "    }\n",
       "\n",
       "    .dataframe thead th {\n",
       "        text-align: right;\n",
       "    }\n",
       "</style>\n",
       "<table border=\"1\" class=\"dataframe\">\n",
       "  <thead>\n",
       "    <tr style=\"text-align: right;\">\n",
       "      <th></th>\n",
       "      <th>NumRooms</th>\n",
       "      <th>Alley</th>\n",
       "      <th>Price</th>\n",
       "    </tr>\n",
       "  </thead>\n",
       "  <tbody>\n",
       "    <tr>\n",
       "      <th>0</th>\n",
       "      <td>NaN</td>\n",
       "      <td>Pave</td>\n",
       "      <td>127800</td>\n",
       "    </tr>\n",
       "    <tr>\n",
       "      <th>1</th>\n",
       "      <td>2.0</td>\n",
       "      <td>NaN</td>\n",
       "      <td>106000</td>\n",
       "    </tr>\n",
       "    <tr>\n",
       "      <th>2</th>\n",
       "      <td>4.0</td>\n",
       "      <td>NaN</td>\n",
       "      <td>178100</td>\n",
       "    </tr>\n",
       "    <tr>\n",
       "      <th>3</th>\n",
       "      <td>NaN</td>\n",
       "      <td>NaN</td>\n",
       "      <td>140000</td>\n",
       "    </tr>\n",
       "  </tbody>\n",
       "</table>\n",
       "</div>"
      ],
      "text/plain": [
       "   NumRooms  Alley   Price\n",
       "0       NaN   Pave  127800\n",
       "1       2.0    NaN  106000\n",
       "2       4.0    NaN  178100\n",
       "3       NaN    NaN  140000"
      ]
     },
     "execution_count": 17,
     "metadata": {},
     "output_type": "execute_result"
    }
   ],
   "source": [
    "import pandas as pd\n",
    "data = pd.read_csv(data_file, encoding=\"utf-8\")\n",
    "data"
   ]
  },
  {
   "cell_type": "markdown",
   "id": "4eea20d7-ece3-4c80-892f-d5fd9cdecc49",
   "metadata": {},
   "source": [
    "## 2.2.2 处理缺失值"
   ]
  },
  {
   "cell_type": "raw",
   "id": "c7e1b861-544b-4f7d-959f-54eb7546144b",
   "metadata": {},
   "source": [
    "处理缺失值，典型的方法有插值法和删除法"
   ]
  },
  {
   "cell_type": "code",
   "execution_count": 18,
   "id": "cf9c3ef6-bc3d-45ff-83c9-385de6d25c2f",
   "metadata": {},
   "outputs": [],
   "source": [
    "input_data, output_data = data.iloc[:, :2], data.iloc[:, 2]\n",
    "# 使用插值法填充数据\n",
    "input_data[\"NumRooms\"] = input_data[\"NumRooms\"].fillna(input_data[\"NumRooms\"].mean())"
   ]
  },
  {
   "cell_type": "raw",
   "id": "1a878f5a-f5e9-4865-83f6-03ef58f06d6a",
   "metadata": {},
   "source": [
    "对于类别或离散值，pandas可以使用pd.get_dummies()函数自动转换"
   ]
  },
  {
   "cell_type": "code",
   "execution_count": 35,
   "id": "0cb46ae7-f6f3-422f-b76c-4ce556ab667b",
   "metadata": {},
   "outputs": [
    {
     "data": {
      "text/html": [
       "<div>\n",
       "<style scoped>\n",
       "    .dataframe tbody tr th:only-of-type {\n",
       "        vertical-align: middle;\n",
       "    }\n",
       "\n",
       "    .dataframe tbody tr th {\n",
       "        vertical-align: top;\n",
       "    }\n",
       "\n",
       "    .dataframe thead th {\n",
       "        text-align: right;\n",
       "    }\n",
       "</style>\n",
       "<table border=\"1\" class=\"dataframe\">\n",
       "  <thead>\n",
       "    <tr style=\"text-align: right;\">\n",
       "      <th></th>\n",
       "      <th>NumRooms</th>\n",
       "      <th>Alley_ NaN</th>\n",
       "      <th>Alley_ Pave</th>\n",
       "    </tr>\n",
       "  </thead>\n",
       "  <tbody>\n",
       "    <tr>\n",
       "      <th>0</th>\n",
       "      <td>3.0</td>\n",
       "      <td>False</td>\n",
       "      <td>True</td>\n",
       "    </tr>\n",
       "    <tr>\n",
       "      <th>1</th>\n",
       "      <td>2.0</td>\n",
       "      <td>True</td>\n",
       "      <td>False</td>\n",
       "    </tr>\n",
       "    <tr>\n",
       "      <th>2</th>\n",
       "      <td>4.0</td>\n",
       "      <td>True</td>\n",
       "      <td>False</td>\n",
       "    </tr>\n",
       "    <tr>\n",
       "      <th>3</th>\n",
       "      <td>3.0</td>\n",
       "      <td>True</td>\n",
       "      <td>False</td>\n",
       "    </tr>\n",
       "  </tbody>\n",
       "</table>\n",
       "</div>"
      ],
      "text/plain": [
       "   NumRooms   Alley_ NaN   Alley_ Pave\n",
       "0       3.0        False          True\n",
       "1       2.0         True         False\n",
       "2       4.0         True         False\n",
       "3       3.0         True         False"
      ]
     },
     "execution_count": 35,
     "metadata": {},
     "output_type": "execute_result"
    }
   ],
   "source": [
    "input_data = pd.get_dummies(input_data, dummy_na=True)\n",
    "input_data"
   ]
  },
  {
   "cell_type": "markdown",
   "id": "d5cb4bf3-cdde-4c29-8a89-d2465d5d0fe3",
   "metadata": {},
   "source": [
    "## 2.2.3 DataFrame、Serise类型转换为张量"
   ]
  },
  {
   "cell_type": "raw",
   "id": "cc40a4dd-a68f-4eea-9d0d-3a5a4020279e",
   "metadata": {},
   "source": [
    "DataFrame、Serise类型转换为张量类型，\n",
    "首先需要使用to_numpy()方法转换为numpy.ndarray()类型，再使用torch.tensor()进行转换为张量类型\n",
    "\n",
    "若DataFrame、Serise中的数据有bool类型，在转换为numpy.ndarray()类型时，应该指定类型"
   ]
  },
  {
   "cell_type": "code",
   "execution_count": 42,
   "id": "e40133b4-5323-4896-ba6e-a3b6845ec05f",
   "metadata": {},
   "outputs": [
    {
     "name": "stdout",
     "output_type": "stream",
     "text": [
      "pd_x_to_tensor:\n",
      " tensor([[3., 0., 1.],\n",
      "        [2., 1., 0.],\n",
      "        [4., 1., 0.],\n",
      "        [3., 1., 0.]], dtype=torch.float64)\n",
      "pd_y_to_tensor:\n",
      " tensor([127800., 106000., 178100., 140000.], dtype=torch.float64)\n"
     ]
    }
   ],
   "source": [
    "pd_x_to_tensor = torch.tensor(input_data.to_numpy(dtype=float))\n",
    "pd_y_to_tensor = torch.tensor(output_data.to_numpy(dtype=float))\n",
    "print(\"pd_x_to_tensor:\\n\",pd_x_to_tensor)\n",
    "print(\"pd_y_to_tensor:\\n\", pd_y_to_tensor)\n"
   ]
  },
  {
   "cell_type": "raw",
   "id": "7f58ca56-afcc-4622-9923-d3fe6001de94",
   "metadata": {},
   "source": [
    "当DataFrame、Serise中有bool类型的数据，在使用to_numpy()方法转换为numpy.ndarray()时不指定数据类型，然后使用torch.tensor()会发生的错误"
   ]
  },
  {
   "cell_type": "code",
   "execution_count": 46,
   "id": "cecb6885-9aaf-4d13-b6fc-2172855ab6eb",
   "metadata": {},
   "outputs": [
    {
     "name": "stdout",
     "output_type": "stream",
     "text": [
      "can't convert np.ndarray of type numpy.object_. The only supported types are: float64, float32, float16, complex64, complex128, int64, int32, int16, int8, uint8, and bool.\n"
     ]
    }
   ],
   "source": [
    "# 在to_numpy()不指定转换的数据类型\n",
    "try:\n",
    "    torch.tensor(input_data.to_numpy())\n",
    "except TypeError as error:\n",
    "    print(error)"
   ]
  },
  {
   "cell_type": "code",
   "execution_count": 47,
   "id": "aef8158f-172b-47ef-b855-26206b0775eb",
   "metadata": {},
   "outputs": [
    {
     "name": "stdout",
     "output_type": "stream",
     "text": [
      "can't convert np.ndarray of type numpy.object_. The only supported types are: float64, float32, float16, complex64, complex128, int64, int32, int16, int8, uint8, and bool.\n"
     ]
    }
   ],
   "source": [
    "# 在to_numpy()不指定转换的数据类型，在torch.tensor()中指定数据转换类型\n",
    "try:\n",
    "    torch.tensor(input_data.to_numpy(), dtype=torch.float32)\n",
    "except TypeError as error:\n",
    "    print(error)"
   ]
  },
  {
   "cell_type": "markdown",
   "id": "fa166833-8fcb-48b1-a2e0-c1d4873cc01f",
   "metadata": {},
   "source": [
    "# 2.3线性代数"
   ]
  },
  {
   "cell_type": "markdown",
   "id": "8de2145a-0105-498f-a38b-75bdd2ce3e49",
   "metadata": {
    "jp-MarkdownHeadingCollapsed": true
   },
   "source": [
    "# 2.4 微积分"
   ]
  },
  {
   "cell_type": "markdown",
   "id": "09c89d42-bde7-4d07-a0cc-0a02a7563e1a",
   "metadata": {},
   "source": [
    "# 2.5 自动微分"
   ]
  },
  {
   "cell_type": "markdown",
   "id": "270061a3-5e31-4bf9-99be-7bca4f6f7ec5",
   "metadata": {
    "jp-MarkdownHeadingCollapsed": true
   },
   "source": [
    "# 2.6 概率"
   ]
  }
 ],
 "metadata": {
  "kernelspec": {
   "display_name": "Python 3 (ipykernel)",
   "language": "python",
   "name": "python3"
  },
  "language_info": {
   "codemirror_mode": {
    "name": "ipython",
    "version": 3
   },
   "file_extension": ".py",
   "mimetype": "text/x-python",
   "name": "python",
   "nbconvert_exporter": "python",
   "pygments_lexer": "ipython3",
   "version": "3.10.12"
  }
 },
 "nbformat": 4,
 "nbformat_minor": 5
}
